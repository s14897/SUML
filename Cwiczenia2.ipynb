{
 "cells": [
  {
   "cell_type": "code",
   "execution_count": 10,
   "metadata": {},
   "outputs": [],
   "source": [
    "import pandas as pd\n",
    "import pickle\n",
    "import numpy as np\n",
    "from matplotlib import pyplot as plt\n",
    "from sklearn.linear_model import LinearRegression\n",
    "df = pd.read_csv('C:\\\\Users\\\\user\\\\Python\\\\SUML\\\\SUML\\\\data\\\\10_points.csv')\n",
    "\n",
    "def run_fun1(dataframe):\n",
    "    \n",
    "    X = dataframe['x'].values.reshape(-1,1) # values converts it into a numpy array\n",
    "    y = dataframe['y'].values.reshape(-1,1)\n",
    "    linear_regressor = LinearRegression()\n",
    "    linear_regressor.fit(X, y)\n",
    "    y_pred = linear_regressor.predict(X)\n",
    "\n",
    "    return y_pred\n",
    "\n",
    "run_model(df)\n",
    "\n",
    "def run_fun2(dataframe):\n",
    "    imported_model = pickle.load(open(\"our_model.pkl\", 'rb'))\n",
    "    X = df['x'].values.reshape(-1,1) # values converts it into a numpy array\n",
    "    y = df['y'].values.reshape(-1,1)\n",
    "    linear_regressor = LinearRegression()\n",
    "    linear_regressor.fit(X, y)\n",
    "    y_pred = linear_regressor.predict(X)"
   ]
  },
  {
   "cell_type": "code",
   "execution_count": null,
   "metadata": {},
   "outputs": [],
   "source": []
  }
 ],
 "metadata": {
  "interpreter": {
   "hash": "5f292722d6d50c2426abae6fd15a85386b49c5393ec98f1c35f79e4e4dd7448b"
  },
  "kernelspec": {
   "display_name": "Python 3.7.3 64-bit ('base': conda)",
   "name": "python3"
  },
  "language_info": {
   "codemirror_mode": {
    "name": "ipython",
    "version": 3
   },
   "file_extension": ".py",
   "mimetype": "text/x-python",
   "name": "python",
   "nbconvert_exporter": "python",
   "pygments_lexer": "ipython3",
   "version": "3.7.3"
  },
  "orig_nbformat": 4
 },
 "nbformat": 4,
 "nbformat_minor": 2
}
